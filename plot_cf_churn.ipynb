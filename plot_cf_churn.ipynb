{
 "cells": [
  {
   "cell_type": "markdown",
   "id": "cb4a783a-da9d-410d-a0f7-5587e5eacaee",
   "metadata": {},
   "source": [
    "<p style=\"float:right\"> <img src=\"assets/orange.png\" alt=\"Orange logo\" width=\"40\" /> <img src=\"assets/ulb.jpg\" alt=\"ULB logo\" width=\"40\" /> <img src=\"assets/mlg.png\" alt=\"MLG logo\" width=\"160\" /> <img src=\"assets/innoviris.jpg\" alt=\"Innoviris logo\" width=\"200\" /></p>\n",
    "\n",
    "**_Notebook for the project Machu-Picchu written by Théo Verhelst_**<br/>\n",
    "_Supervisors at Orange: Denis Mercier, Jeevan Shrestha_<br/>\n",
    "_Academic supervision: Gianluca Bontempi (ULB MLG)_\n",
    "# Estimation of the probability of counterfactuals from real data"
   ]
  },
  {
   "cell_type": "code",
   "execution_count": 1,
   "id": "030af9c9-d089-495e-b6b5-73f8c727f6a4",
   "metadata": {},
   "outputs": [
    {
     "name": "stderr",
     "output_type": "stream",
     "text": [
      "Loading required package: ggplot2\n",
      "\n",
      "Loading required package: lattice\n",
      "\n",
      "Loading required package: RItools\n",
      "\n",
      "Loading required package: SparseM\n",
      "\n",
      "\n",
      "Attaching package: ‘SparseM’\n",
      "\n",
      "\n",
      "The following object is masked from ‘package:base’:\n",
      "\n",
      "    backsolve\n",
      "\n",
      "\n",
      "Loading required package: MASS\n",
      "\n",
      "Loading required package: coin\n",
      "\n",
      "Loading required package: survival\n",
      "\n",
      "\n",
      "Attaching package: ‘survival’\n",
      "\n",
      "\n",
      "The following object is masked from ‘package:caret’:\n",
      "\n",
      "    cluster\n",
      "\n",
      "\n",
      "Loading required package: tables\n",
      "\n",
      "Loading required package: penalized\n",
      "\n",
      "Welcome to penalized. For extended examples, see vignette(\"penalized\").\n",
      "\n"
     ]
    }
   ],
   "source": [
    "library(caret) # createFolds\n",
    "library(ggplot2)\n",
    "library(reshape2)\n",
    "library(uplift)\n",
    "source(\"utils.R\")\n",
    "source(\"estimate_cf.R\")"
   ]
  },
  {
   "cell_type": "code",
   "execution_count": 2,
   "id": "9aeb48ca-5e7f-492f-8f94-c7a92defecff",
   "metadata": {},
   "outputs": [],
   "source": [
    "data <- read.csv(\"orange_churn.csv\")\n",
    "data <- list(\n",
    "    x = remove_columns(data, c(\"y\", \"t\")),\n",
    "    y = data$y,\n",
    "    t = data$t\n",
    ")"
   ]
  },
  {
   "cell_type": "code",
   "execution_count": 3,
   "id": "3a329863-7b6b-44ca-902a-650e43f44459",
   "metadata": {},
   "outputs": [],
   "source": [
    "S_0 <- mean(data$y[data$t == \"0\"] == \"1\")\n",
    "S_1 <- mean(data$y[data$t == \"1\"] == \"1\")"
   ]
  },
  {
   "cell_type": "code",
   "execution_count": 4,
   "id": "19cbc167-0f78-4703-9d4c-a0574952ba5b",
   "metadata": {},
   "outputs": [
    {
     "name": "stdout",
     "output_type": "stream",
     "text": [
      "S_0 =  0.05038335 \n",
      "S_1 =  0.04347826 \n",
      "P(T=1) =  0.5894784 \n",
      "N =  2224 \n",
      "N_features =  137 \n"
     ]
    }
   ],
   "source": [
    "cat(\"S_0 = \", S_0, \"\\n\")\n",
    "cat(\"S_1 = \", S_1, \"\\n\")\n",
    "cat(\"P(T=1) = \", mean(data$t == \"1\"), \"\\n\")\n",
    "cat(\"N = \", nrow(data$x), \"\\n\")\n",
    "cat(\"N_features = \", ncol(data$x), \"\\n\")"
   ]
  },
  {
   "cell_type": "code",
   "execution_count": 5,
   "id": "980c9e5f-81ed-4c36-bcc3-8ee0a6b26554",
   "metadata": {},
   "outputs": [],
   "source": [
    "bounds <- frechet_bounds(S_0, S_1)"
   ]
  },
  {
   "cell_type": "code",
   "execution_count": 6,
   "id": "debe6414-72fd-4952-96b9-dd2a88a8d07b",
   "metadata": {},
   "outputs": [
    {
     "data": {
      "text/html": [
       "<dl>\n",
       "\t<dt>$alpha</dt>\n",
       "\t\t<dd><dl>\n",
       "\t<dt>$min</dt>\n",
       "\t\t<dd>0.906138387542264</dd>\n",
       "\t<dt>$max</dt>\n",
       "\t\t<dd>0.949616648411829</dd>\n",
       "</dl>\n",
       "</dd>\n",
       "\t<dt>$beta</dt>\n",
       "\t\t<dd><dl>\n",
       "\t<dt>$min</dt>\n",
       "\t\t<dd>0.00690509071860565</dd>\n",
       "\t<dt>$max</dt>\n",
       "\t\t<dd>0.0503833515881709</dd>\n",
       "</dl>\n",
       "</dd>\n",
       "\t<dt>$gamma</dt>\n",
       "\t\t<dd><dl>\n",
       "\t<dt>$min</dt>\n",
       "\t\t<dd>0</dd>\n",
       "\t<dt>$max</dt>\n",
       "\t\t<dd>0.0434782608695652</dd>\n",
       "</dl>\n",
       "</dd>\n",
       "\t<dt>$delta</dt>\n",
       "\t\t<dd><dl>\n",
       "\t<dt>$min</dt>\n",
       "\t\t<dd>0</dd>\n",
       "\t<dt>$max</dt>\n",
       "\t\t<dd>0.0434782608695652</dd>\n",
       "</dl>\n",
       "</dd>\n",
       "\t<dt>$phi</dt>\n",
       "\t\t<dd><dl>\n",
       "\t<dt>$min</dt>\n",
       "\t\t<dd>-0.00219058050383352</dd>\n",
       "\t<dt>$max</dt>\n",
       "\t\t<dd>0.0412876803657317</dd>\n",
       "</dl>\n",
       "</dd>\n",
       "</dl>\n"
      ],
      "text/latex": [
       "\\begin{description}\n",
       "\\item[\\$alpha] \\begin{description}\n",
       "\\item[\\$min] 0.906138387542264\n",
       "\\item[\\$max] 0.949616648411829\n",
       "\\end{description}\n",
       "\n",
       "\\item[\\$beta] \\begin{description}\n",
       "\\item[\\$min] 0.00690509071860565\n",
       "\\item[\\$max] 0.0503833515881709\n",
       "\\end{description}\n",
       "\n",
       "\\item[\\$gamma] \\begin{description}\n",
       "\\item[\\$min] 0\n",
       "\\item[\\$max] 0.0434782608695652\n",
       "\\end{description}\n",
       "\n",
       "\\item[\\$delta] \\begin{description}\n",
       "\\item[\\$min] 0\n",
       "\\item[\\$max] 0.0434782608695652\n",
       "\\end{description}\n",
       "\n",
       "\\item[\\$phi] \\begin{description}\n",
       "\\item[\\$min] -0.00219058050383352\n",
       "\\item[\\$max] 0.0412876803657317\n",
       "\\end{description}\n",
       "\n",
       "\\end{description}\n"
      ],
      "text/markdown": [
       "$alpha\n",
       ":   $min\n",
       ":   0.906138387542264\n",
       "$max\n",
       ":   0.949616648411829\n",
       "\n",
       "\n",
       "\n",
       "$beta\n",
       ":   $min\n",
       ":   0.00690509071860565\n",
       "$max\n",
       ":   0.0503833515881709\n",
       "\n",
       "\n",
       "\n",
       "$gamma\n",
       ":   $min\n",
       ":   0\n",
       "$max\n",
       ":   0.0434782608695652\n",
       "\n",
       "\n",
       "\n",
       "$delta\n",
       ":   $min\n",
       ":   0\n",
       "$max\n",
       ":   0.0434782608695652\n",
       "\n",
       "\n",
       "\n",
       "$phi\n",
       ":   $min\n",
       ":   -0.00219058050383352\n",
       "$max\n",
       ":   0.0412876803657317\n",
       "\n",
       "\n",
       "\n",
       "\n",
       "\n"
      ],
      "text/plain": [
       "$alpha\n",
       "$alpha$min\n",
       "[1] 0.9061384\n",
       "\n",
       "$alpha$max\n",
       "[1] 0.9496166\n",
       "\n",
       "\n",
       "$beta\n",
       "$beta$min\n",
       "[1] 0.006905091\n",
       "\n",
       "$beta$max\n",
       "[1] 0.05038335\n",
       "\n",
       "\n",
       "$gamma\n",
       "$gamma$min\n",
       "[1] 0\n",
       "\n",
       "$gamma$max\n",
       "[1] 0.04347826\n",
       "\n",
       "\n",
       "$delta\n",
       "$delta$min\n",
       "[1] 0\n",
       "\n",
       "$delta$max\n",
       "[1] 0.04347826\n",
       "\n",
       "\n",
       "$phi\n",
       "$phi$min\n",
       "[1] -0.002190581\n",
       "\n",
       "$phi$max\n",
       "[1] 0.04128768\n",
       "\n"
      ]
     },
     "metadata": {},
     "output_type": "display_data"
    }
   ],
   "source": [
    "bounds"
   ]
  },
  {
   "cell_type": "code",
   "execution_count": 8,
   "id": "afbfb1a6-60f3-4a92-b443-9d8be0d9bcea",
   "metadata": {},
   "outputs": [],
   "source": [
    "results <- readRDS(\"runs/results_uplift_rf.rds\")"
   ]
  },
  {
   "cell_type": "code",
   "execution_count": 9,
   "id": "3a13efe3-81e5-411a-897f-cc21c82023c9",
   "metadata": {},
   "outputs": [
    {
     "name": "stdout",
     "output_type": "stream",
     "text": [
      "hat S_0 =  5.066484 %\n",
      "hat S_1 =  4.354319 %\n",
      "S_0 =  5.038335 %\n",
      "S_1 =  4.347826 %\n",
      "initial prior =  5.066484 %\n",
      "resulting prior =  5.038991 %\n"
     ]
    }
   ],
   "source": [
    "cat(\"hat S_0 = \", mean(results$pred$S_0) * 100, \"%\\n\")\n",
    "cat(\"hat S_1 = \", mean(results$pred$S_1) * 100, \"%\\n\")\n",
    "cat(\"S_0 = \", mean(results$pred$y[results$pred$t == \"0\"] == \"1\") * 100, \"%\\n\")\n",
    "cat(\"S_1 = \", mean(results$pred$y[results$pred$t == \"1\"] == \"1\") * 100, \"%\\n\")\n",
    "\n",
    "cat(\"initial prior = \", mean(results$pred$S_0) * 100, \"%\\n\")\n",
    "cat(\"resulting prior = \", mean(calibrate_score(results$pred$S_0, mean(results$pred$y[results$pred$t == \"0\"] == \"1\"))) * 100, \"%\\n\")"
   ]
  },
  {
   "cell_type": "markdown",
   "id": "c270f3ae-2f2b-4b3f-9894-1213b15cfca6",
   "metadata": {},
   "source": [
    "# Plot the bounds on the probability of counterfactuals"
   ]
  },
  {
   "cell_type": "code",
   "execution_count": 12,
   "id": "f2de3c2a-9748-44f2-a1ea-c3697ebed0c0",
   "metadata": {},
   "outputs": [],
   "source": [
    "var_suf <- c(\"ind\", \"lb_s_ind\", \"ub_s_ind\", \"lb_s_pop\", \"ub_s_pop\")\n",
    "\n",
    "results_melted <- data.frame()\n",
    "for (var_pre in c(\"alpha\", \"beta\", \"gamma\", \"delta\")) {\n",
    "    rows <- data.frame(var = var_pre)\n",
    "    rows[,var_suf] <- results$stats[,paste0(var_pre, \"_\", var_suf)]\n",
    "    results_melted <- as.data.frame(rbind(results_melted, rows))\n",
    "}\n"
   ]
  },
  {
   "cell_type": "code",
   "execution_count": 13,
   "id": "797ced9a-59c5-4bd4-a9a2-75c1066b3167",
   "metadata": {},
   "outputs": [
    {
     "data": {
      "text/html": [
       "<table class=\"dataframe\">\n",
       "<caption>A data.frame: 4 × 6</caption>\n",
       "<thead>\n",
       "\t<tr><th scope=col>var</th><th scope=col>ind</th><th scope=col>lb_s_ind</th><th scope=col>ub_s_ind</th><th scope=col>lb_s_pop</th><th scope=col>ub_s_pop</th></tr>\n",
       "\t<tr><th scope=col>&lt;chr&gt;</th><th scope=col>&lt;dbl&gt;</th><th scope=col>&lt;dbl&gt;</th><th scope=col>&lt;dbl&gt;</th><th scope=col>&lt;dbl&gt;</th><th scope=col>&lt;dbl&gt;</th></tr>\n",
       "</thead>\n",
       "<tbody>\n",
       "\t<tr><td>alpha</td><td>0.908328039</td><td>0.905791974</td><td>0.94193306</td><td>0.906138388</td><td>0.94961665</td></tr>\n",
       "\t<tr><td>beta </td><td>0.048128771</td><td>0.014523755</td><td>0.05066484</td><td>0.006905091</td><td>0.05038335</td></tr>\n",
       "\t<tr><td>gamma</td><td>0.041007125</td><td>0.007402108</td><td>0.04354319</td><td>0.000000000</td><td>0.04347826</td></tr>\n",
       "\t<tr><td>delta</td><td>0.002536065</td><td>0.000000000</td><td>0.03614108</td><td>0.000000000</td><td>0.04347826</td></tr>\n",
       "</tbody>\n",
       "</table>\n"
      ],
      "text/latex": [
       "A data.frame: 4 × 6\n",
       "\\begin{tabular}{llllll}\n",
       " var & ind & lb\\_s\\_ind & ub\\_s\\_ind & lb\\_s\\_pop & ub\\_s\\_pop\\\\\n",
       " <chr> & <dbl> & <dbl> & <dbl> & <dbl> & <dbl>\\\\\n",
       "\\hline\n",
       "\t alpha & 0.908328039 & 0.905791974 & 0.94193306 & 0.906138388 & 0.94961665\\\\\n",
       "\t beta  & 0.048128771 & 0.014523755 & 0.05066484 & 0.006905091 & 0.05038335\\\\\n",
       "\t gamma & 0.041007125 & 0.007402108 & 0.04354319 & 0.000000000 & 0.04347826\\\\\n",
       "\t delta & 0.002536065 & 0.000000000 & 0.03614108 & 0.000000000 & 0.04347826\\\\\n",
       "\\end{tabular}\n"
      ],
      "text/markdown": [
       "\n",
       "A data.frame: 4 × 6\n",
       "\n",
       "| var &lt;chr&gt; | ind &lt;dbl&gt; | lb_s_ind &lt;dbl&gt; | ub_s_ind &lt;dbl&gt; | lb_s_pop &lt;dbl&gt; | ub_s_pop &lt;dbl&gt; |\n",
       "|---|---|---|---|---|---|\n",
       "| alpha | 0.908328039 | 0.905791974 | 0.94193306 | 0.906138388 | 0.94961665 |\n",
       "| beta  | 0.048128771 | 0.014523755 | 0.05066484 | 0.006905091 | 0.05038335 |\n",
       "| gamma | 0.041007125 | 0.007402108 | 0.04354319 | 0.000000000 | 0.04347826 |\n",
       "| delta | 0.002536065 | 0.000000000 | 0.03614108 | 0.000000000 | 0.04347826 |\n",
       "\n"
      ],
      "text/plain": [
       "  var   ind         lb_s_ind    ub_s_ind   lb_s_pop    ub_s_pop  \n",
       "1 alpha 0.908328039 0.905791974 0.94193306 0.906138388 0.94961665\n",
       "2 beta  0.048128771 0.014523755 0.05066484 0.006905091 0.05038335\n",
       "3 gamma 0.041007125 0.007402108 0.04354319 0.000000000 0.04347826\n",
       "4 delta 0.002536065 0.000000000 0.03614108 0.000000000 0.04347826"
      ]
     },
     "metadata": {},
     "output_type": "display_data"
    }
   ],
   "source": [
    "results_melted"
   ]
  },
  {
   "cell_type": "code",
   "execution_count": 14,
   "id": "033f5e88-ae9b-48bc-a63d-eb28f3e69e10",
   "metadata": {},
   "outputs": [
    {
     "data": {
      "image/png": "[encoded data removed]",
      "text/plain": [
       "plot without title"
      ]
     },
     "metadata": {
      "image/png": {
       "height": 420,
       "width": 420
      }
     },
     "output_type": "display_data"
    }
   ],
   "source": [
    "plot_width <- 14\n",
    "plot_height <- 10\n",
    "plot_units <- \"cm\"\n",
    "font_size <- 11\n",
    "font_family <- \"Times\"\n",
    "\n",
    "p <- ggplot(results_melted) +\n",
    "  geom_point(aes(x = var, y = ind), size=2) +\n",
    "  geom_errorbar(aes(x = var, ymin = lb_s_ind, ymax = ub_s_ind, linetype = \"Uplift bounds\"), width=0.5) +\n",
    "  geom_errorbar(aes(x = var, ymin = lb_s_pop, ymax = ub_s_pop, linetype = \"Fréchet bounds\"), width=0.5) +\n",
    "facet_wrap(~factor(var, levels=c(\"alpha\", \"beta\", \"gamma\", \"delta\")), scales=\"free\", labeller = label_parsed) +\n",
    "  labs(x = NULL, y = NULL, linetype=\"Bounds type:\") +\n",
    "  scale_x_discrete(labels=NULL) +\n",
    "  theme_bw() +\n",
    "  theme(\n",
    "    text = element_text(size = font_size, family = font_family),\n",
    "    legend.position=\"bottom\",\n",
    "    axis.ticks.x = element_blank()\n",
    "  )\n",
    "p\n",
    "#ggsave(\"pdf/emp_bounds.pdf\", plot = p, width = plot_width, height = 0.7 * plot_height, units = plot_units)"
   ]
  },
  {
   "cell_type": "code",
   "execution_count": 15,
   "id": "6a10e78a-a560-444e-a743-59c81d9c73ca",
   "metadata": {},
   "outputs": [
    {
     "data": {
      "text/html": [
       "<table class=\"dataframe\">\n",
       "<caption>A matrix: 5 × 4 of type chr</caption>\n",
       "<tbody>\n",
       "\t<tr><th scope=row>ind</th><td>90.83</td><td> 4.81</td><td> 4.10</td><td> 0.25</td></tr>\n",
       "\t<tr><th scope=row>lb_s_ind</th><td>90.58</td><td> 1.45</td><td> 0.74</td><td> 0.00</td></tr>\n",
       "\t<tr><th scope=row>ub_s_ind</th><td>94.19</td><td> 5.07</td><td> 4.35</td><td> 3.61</td></tr>\n",
       "\t<tr><th scope=row>lb_s_pop</th><td>90.61</td><td> 0.69</td><td> 0.00</td><td> 0.00</td></tr>\n",
       "\t<tr><th scope=row>ub_s_pop</th><td>94.96</td><td> 5.04</td><td> 4.35</td><td> 4.35</td></tr>\n",
       "</tbody>\n",
       "</table>\n"
      ],
      "text/latex": [
       "A matrix: 5 × 4 of type chr\n",
       "\\begin{tabular}{r|llll}\n",
       "\tind & 90.83 &  4.81 &  4.10 &  0.25\\\\\n",
       "\tlb\\_s\\_ind & 90.58 &  1.45 &  0.74 &  0.00\\\\\n",
       "\tub\\_s\\_ind & 94.19 &  5.07 &  4.35 &  3.61\\\\\n",
       "\tlb\\_s\\_pop & 90.61 &  0.69 &  0.00 &  0.00\\\\\n",
       "\tub\\_s\\_pop & 94.96 &  5.04 &  4.35 &  4.35\\\\\n",
       "\\end{tabular}\n"
      ],
      "text/markdown": [
       "\n",
       "A matrix: 5 × 4 of type chr\n",
       "\n",
       "| ind | 90.83 |  4.81 |  4.10 |  0.25 |\n",
       "| lb_s_ind | 90.58 |  1.45 |  0.74 |  0.00 |\n",
       "| ub_s_ind | 94.19 |  5.07 |  4.35 |  3.61 |\n",
       "| lb_s_pop | 90.61 |  0.69 |  0.00 |  0.00 |\n",
       "| ub_s_pop | 94.96 |  5.04 |  4.35 |  4.35 |\n",
       "\n"
      ],
      "text/plain": [
       "         [,1]  [,2]  [,3]  [,4] \n",
       "ind      90.83  4.81  4.10  0.25\n",
       "lb_s_ind 90.58  1.45  0.74  0.00\n",
       "ub_s_ind 94.19  5.07  4.35  3.61\n",
       "lb_s_pop 90.61  0.69  0.00  0.00\n",
       "ub_s_pop 94.96  5.04  4.35  4.35"
      ]
     },
     "metadata": {},
     "output_type": "display_data"
    }
   ],
   "source": [
    "format(t(results_melted[-1]) * 100, digits=2)"
   ]
  },
  {
   "cell_type": "code",
   "execution_count": 16,
   "id": "b6ca91d2-d28d-41ef-a845-45863ba275e2",
   "metadata": {},
   "outputs": [
    {
     "data": {
      "text/html": [
       "<table class=\"dataframe\">\n",
       "<caption>A data.frame: 4 × 6</caption>\n",
       "<thead>\n",
       "\t<tr><th></th><th scope=col>var</th><th scope=col>ind</th><th scope=col>lb_s_ind</th><th scope=col>ub_s_ind</th><th scope=col>lb_s_pop</th><th scope=col>ub_s_pop</th></tr>\n",
       "\t<tr><th></th><th scope=col>&lt;chr&gt;</th><th scope=col>&lt;dbl&gt;</th><th scope=col>&lt;dbl&gt;</th><th scope=col>&lt;dbl&gt;</th><th scope=col>&lt;dbl&gt;</th><th scope=col>&lt;dbl&gt;</th></tr>\n",
       "</thead>\n",
       "<tbody>\n",
       "\t<tr><th scope=row>1</th><td>alpha</td><td>0.908328039</td><td>0.905791974</td><td>0.94193306</td><td>0.906138388</td><td>0.94961665</td></tr>\n",
       "\t<tr><th scope=row>2</th><td>beta </td><td>0.048128771</td><td>0.014523755</td><td>0.05066484</td><td>0.006905091</td><td>0.05038335</td></tr>\n",
       "\t<tr><th scope=row>3</th><td>gamma</td><td>0.041007125</td><td>0.007402108</td><td>0.04354319</td><td>0.000000000</td><td>0.04347826</td></tr>\n",
       "\t<tr><th scope=row>4</th><td>delta</td><td>0.002536065</td><td>0.000000000</td><td>0.03614108</td><td>0.000000000</td><td>0.04347826</td></tr>\n",
       "</tbody>\n",
       "</table>\n"
      ],
      "text/latex": [
       "A data.frame: 4 × 6\n",
       "\\begin{tabular}{r|llllll}\n",
       "  & var & ind & lb\\_s\\_ind & ub\\_s\\_ind & lb\\_s\\_pop & ub\\_s\\_pop\\\\\n",
       "  & <chr> & <dbl> & <dbl> & <dbl> & <dbl> & <dbl>\\\\\n",
       "\\hline\n",
       "\t1 & alpha & 0.908328039 & 0.905791974 & 0.94193306 & 0.906138388 & 0.94961665\\\\\n",
       "\t2 & beta  & 0.048128771 & 0.014523755 & 0.05066484 & 0.006905091 & 0.05038335\\\\\n",
       "\t3 & gamma & 0.041007125 & 0.007402108 & 0.04354319 & 0.000000000 & 0.04347826\\\\\n",
       "\t4 & delta & 0.002536065 & 0.000000000 & 0.03614108 & 0.000000000 & 0.04347826\\\\\n",
       "\\end{tabular}\n"
      ],
      "text/markdown": [
       "\n",
       "A data.frame: 4 × 6\n",
       "\n",
       "| <!--/--> | var &lt;chr&gt; | ind &lt;dbl&gt; | lb_s_ind &lt;dbl&gt; | ub_s_ind &lt;dbl&gt; | lb_s_pop &lt;dbl&gt; | ub_s_pop &lt;dbl&gt; |\n",
       "|---|---|---|---|---|---|---|\n",
       "| 1 | alpha | 0.908328039 | 0.905791974 | 0.94193306 | 0.906138388 | 0.94961665 |\n",
       "| 2 | beta  | 0.048128771 | 0.014523755 | 0.05066484 | 0.006905091 | 0.05038335 |\n",
       "| 3 | gamma | 0.041007125 | 0.007402108 | 0.04354319 | 0.000000000 | 0.04347826 |\n",
       "| 4 | delta | 0.002536065 | 0.000000000 | 0.03614108 | 0.000000000 | 0.04347826 |\n",
       "\n"
      ],
      "text/plain": [
       "  var   ind         lb_s_ind    ub_s_ind   lb_s_pop    ub_s_pop  \n",
       "1 alpha 0.908328039 0.905791974 0.94193306 0.906138388 0.94961665\n",
       "2 beta  0.048128771 0.014523755 0.05066484 0.006905091 0.05038335\n",
       "3 gamma 0.041007125 0.007402108 0.04354319 0.000000000 0.04347826\n",
       "4 delta 0.002536065 0.000000000 0.03614108 0.000000000 0.04347826"
      ]
     },
     "metadata": {},
     "output_type": "display_data"
    }
   ],
   "source": [
    "head(results_melted)"
   ]
  },
  {
   "cell_type": "code",
   "execution_count": 17,
   "id": "be170bbb-5f7f-4d47-9b1c-f5c6585c91be",
   "metadata": {},
   "outputs": [
    {
     "name": "stdout",
     "output_type": "stream",
     "text": [
      "Point estimate &  $90.83$ & $4.813$ & $4.101$ & $0.2536$ \\\\\n",
      "ML bounds      &  $[90.58,94.19]$ & $[1.452,5.066]$ & $[0.7402,4.354]$ & $[0,3.614]$ \\\\\n",
      "Fréchet bounds &  $[90.61,94.96]$ & $[0.6905,5.038]$ & $[0,4.348]$ & $[0,4.348]$ \\\\\n"
     ]
    }
   ],
   "source": [
    "vars <- c(\"alpha\", \"beta\", \"gamma\", \"delta\")\n",
    "get_val <- function(var, col)\n",
    "    format(results_melted[results_melted[,\"var\"] == var, col] * 100, digits=4)\n",
    "\n",
    "cat(\"Point estimate & \",   paste0(sapply(vars, function(var) paste0(\"$\", get_val(var, \"ind\"), \"$\")), collapse = \" & \"), \"\\\\\\\\\\n\")\n",
    "cat(\"ML bounds      & \", paste0(sapply(vars, function(var) paste0(\"$[\", get_val(var, \"lb_s_ind\"), \",\", get_val(var, \"ub_s_ind\"), \"]$\")), collapse = \" & \"), \"\\\\\\\\\\n\")\n",
    "cat(\"Fréchet bounds & \", paste0(sapply(vars, function(var) paste0(\"$[\", get_val(var, \"lb_s_pop\"), \",\", get_val(var, \"ub_s_pop\"), \"]$\")), collapse = \" & \"), \"\\\\\\\\\\n\")"
   ]
  },
  {
   "cell_type": "code",
   "execution_count": null,
   "id": "7d2f86ee-3dff-4aac-b493-c0d63c94ab3d",
   "metadata": {},
   "outputs": [],
   "source": []
  }
 ],
 "metadata": {
  "environment": {
   "kernel": "ir",
   "name": "r-cpu.4-1.m89",
   "type": "gcloud",
   "uri": "gcr.io/deeplearning-platform-release/r-cpu.4-1:m89"
  },
  "kernelspec": {
   "display_name": "R",
   "language": "R",
   "name": "ir"
  },
  "language_info": {
   "codemirror_mode": "r",
   "file_extension": ".r",
   "mimetype": "text/x-r-source",
   "name": "R",
   "pygments_lexer": "r",
   "version": "4.1.2"
  }
 },
 "nbformat": 4,
 "nbformat_minor": 5
}
